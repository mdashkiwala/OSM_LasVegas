{
 "cells": [
  {
   "cell_type": "markdown",
   "metadata": {},
   "source": [
    "# OpenStreetMap Data Case Study"
   ]
  },
  {
   "cell_type": "markdown",
   "metadata": {},
   "source": [
    "### Map Area\n",
    "\n",
    "Las Vegas, Nevada\n",
    "\n",
    "This map is of Vegas which I crave to visit someday in my life."
   ]
  },
  {
   "cell_type": "markdown",
   "metadata": {},
   "source": [
    "### Problems Encountered in the Map:\n",
    "\n",
    "After initially downloading a small sample size of the Las Vegas area and running it against a provisional data.py file, I noticed five main problems with the data:\n",
    "\n",
    "1. Inconsistent Postal Codes\n",
    "2. Useless info in Changeset\n",
    "3. Splitting Timestamp\n",
    "4. 'FIXME' tags\n",
    "5. Name tags split"
   ]
  },
  {
   "cell_type": "code",
   "execution_count": 1,
   "metadata": {
    "collapsed": false
   },
   "outputs": [],
   "source": [
    "import xml.etree.cElementTree as ET\n",
    "import pprint \n",
    "from collections import defaultdict\n",
    "import re\n",
    "import pandas as pd"
   ]
  },
  {
   "cell_type": "code",
   "execution_count": 2,
   "metadata": {
    "collapsed": true
   },
   "outputs": [],
   "source": [
    "filename='las-vegas_nevada.osm'\n",
    "sample_file='sample_las-vegas.osm'"
   ]
  },
  {
   "cell_type": "markdown",
   "metadata": {},
   "source": [
    "## Initially, counting tag names. "
   ]
  },
  {
   "cell_type": "code",
   "execution_count": 3,
   "metadata": {
    "collapsed": false
   },
   "outputs": [],
   "source": [
    "def count_tags(filename):\n",
    "    tags={}\n",
    "    for event,t in ET.iterparse(filename):\n",
    "        if t.tag in tags.keys():\n",
    "            tags[t.tag]+=1\n",
    "        else:\n",
    "            tags[t.tag]=1\n",
    "    return tags"
   ]
  },
  {
   "cell_type": "code",
   "execution_count": 4,
   "metadata": {
    "collapsed": false
   },
   "outputs": [
    {
     "data": {
      "text/plain": [
       "{'member': 2,\n",
       " 'nd': 2815,\n",
       " 'node': 2629,\n",
       " 'osm': 1,\n",
       " 'relation': 1,\n",
       " 'tag': 1277,\n",
       " 'way': 282}"
      ]
     },
     "execution_count": 4,
     "metadata": {},
     "output_type": "execute_result"
    }
   ],
   "source": [
    "count_tags(sample_file)"
   ]
  },
  {
   "cell_type": "markdown",
   "metadata": {},
   "source": [
    "## In this project we clean data associated with nodes and ways, leaving out relations. "
   ]
  },
  {
   "cell_type": "code",
   "execution_count": 5,
   "metadata": {
    "collapsed": false
   },
   "outputs": [],
   "source": [
    "street_type_re = re.compile(r'\\b\\S+\\.?$', re.IGNORECASE)\n",
    "expected = []\n",
    "PROBLEMCHARS = re.compile(r'[=\\+/&<>;\\'\"\\?%#$@\\,\\. \\t\\r\\n]')"
   ]
  },
  {
   "cell_type": "code",
   "execution_count": 6,
   "metadata": {
    "collapsed": false
   },
   "outputs": [],
   "source": [
    "def get_tags(elem):\n",
    "    tags=[]\n",
    "    for tag in elem.findall('tag'):\n",
    "        if PROBLEMCHARS.match(tag.attrib['k']):\n",
    "            continue\n",
    "        else:\n",
    "            elem_tags={}\n",
    "            elem_tags['id']=elem.attrib['id']\n",
    "            elem_tags['value']=tag.attrib['v']\n",
    "            try:\n",
    "                split_key=tag.attrib['k'].split(':',1)\n",
    "                elem_tags['type']=split_key[0]\n",
    "                elem_tags['key']=split_key[1]\n",
    "            except:\n",
    "                elem_tags['key']=tag.attrib['k']\n",
    "                elem_tags['type']='regular'\n",
    "            tags.append(elem_tags)\n",
    "    return tags\n",
    "    \n",
    "def nodes(filename):\n",
    "    with open (filename) as f:\n",
    "        all_nodes = []\n",
    "        node_tags =[]\n",
    "        for event, elem in ET.iterparse(filename, events=(\"start\",)):\n",
    "            if elem.tag=='node':\n",
    "                node={}\n",
    "                for att,values in elem.items():\n",
    "                    node[att]=values\n",
    "                all_nodes.append(node)\n",
    "                elem_tags=get_tags(elem)\n",
    "                node_tags.extend(elem_tags)            \n",
    "    return pd.DataFrame(all_nodes),pd.DataFrame(node_tags)\n",
    "\n",
    "def ways(filename):\n",
    "    with open(filename) as f:\n",
    "        all_ways = []\n",
    "        way_nodes = []\n",
    "        way_tags = []\n",
    "        for event, elem in ET.iterparse(filename, events=(\"start\",)):\n",
    "            if elem.tag == 'way':\n",
    "                way_attribs={}\n",
    "                for att,values in elem.items():\n",
    "                    way_attribs[att]=values\n",
    "                all_ways.append(way_attribs)\n",
    "                for i,nodes in enumerate(elem.findall('nd')):\n",
    "                    way_n={}\n",
    "                    way_n['id']=elem.attrib['id']\n",
    "                    way_n['node_id']=nodes.attrib['ref']\n",
    "                    way_n['position']=i\n",
    "                    way_nodes.append(way_n)\n",
    "                tags=get_tags(elem)\n",
    "                way_tags.extend(tags)\n",
    "    return pd.DataFrame(all_ways),pd.DataFrame(way_nodes),pd.DataFrame(way_tags)\n",
    "                \n",
    "                    "
   ]
  },
  {
   "cell_type": "code",
   "execution_count": 7,
   "metadata": {
    "collapsed": false,
    "scrolled": true
   },
   "outputs": [],
   "source": [
    "all_nodes,node_tags=nodes(filename)"
   ]
  },
  {
   "cell_type": "code",
   "execution_count": 8,
   "metadata": {
    "collapsed": false
   },
   "outputs": [],
   "source": [
    "all_ways, way_nodes, way_tags=ways(filename)"
   ]
  },
  {
   "cell_type": "markdown",
   "metadata": {},
   "source": [
    "## I wish to edit all my dataframes into a form such that I can export a similar looking table to SQL.\n",
    "\n",
    "## 1. all_nodes"
   ]
  },
  {
   "cell_type": "code",
   "execution_count": 9,
   "metadata": {
    "collapsed": false
   },
   "outputs": [
    {
     "data": {
      "text/html": [
       "<div>\n",
       "<table border=\"1\" class=\"dataframe\">\n",
       "  <thead>\n",
       "    <tr style=\"text-align: right;\">\n",
       "      <th></th>\n",
       "      <th>changeset</th>\n",
       "      <th>id</th>\n",
       "      <th>lat</th>\n",
       "      <th>lon</th>\n",
       "      <th>timestamp</th>\n",
       "      <th>uid</th>\n",
       "      <th>user</th>\n",
       "      <th>version</th>\n",
       "    </tr>\n",
       "  </thead>\n",
       "  <tbody>\n",
       "    <tr>\n",
       "      <th>0</th>\n",
       "      <td>45401766</td>\n",
       "      <td>31551114</td>\n",
       "      <td>36.1662859</td>\n",
       "      <td>-115.149225</td>\n",
       "      <td>2017-01-23T14:55:12Z</td>\n",
       "      <td>25975</td>\n",
       "      <td>AmZaf</td>\n",
       "      <td>10</td>\n",
       "    </tr>\n",
       "    <tr>\n",
       "      <th>1</th>\n",
       "      <td>15770302</td>\n",
       "      <td>31551289</td>\n",
       "      <td>36.0685037</td>\n",
       "      <td>-115.2037262</td>\n",
       "      <td>2013-04-18T07:52:34Z</td>\n",
       "      <td>1282393</td>\n",
       "      <td>Reno Editor</td>\n",
       "      <td>6</td>\n",
       "    </tr>\n",
       "    <tr>\n",
       "      <th>2</th>\n",
       "      <td>7129896</td>\n",
       "      <td>31551290</td>\n",
       "      <td>36.0677428</td>\n",
       "      <td>-115.2105885</td>\n",
       "      <td>2011-01-30T03:51:34Z</td>\n",
       "      <td>398919</td>\n",
       "      <td>gMitchellD</td>\n",
       "      <td>2</td>\n",
       "    </tr>\n",
       "    <tr>\n",
       "      <th>3</th>\n",
       "      <td>7129896</td>\n",
       "      <td>31551291</td>\n",
       "      <td>36.0675724</td>\n",
       "      <td>-115.2143331</td>\n",
       "      <td>2011-01-30T03:51:34Z</td>\n",
       "      <td>398919</td>\n",
       "      <td>gMitchellD</td>\n",
       "      <td>3</td>\n",
       "    </tr>\n",
       "    <tr>\n",
       "      <th>4</th>\n",
       "      <td>7129896</td>\n",
       "      <td>31551345</td>\n",
       "      <td>36.0672624</td>\n",
       "      <td>-115.2149755</td>\n",
       "      <td>2011-01-30T03:51:34Z</td>\n",
       "      <td>398919</td>\n",
       "      <td>gMitchellD</td>\n",
       "      <td>3</td>\n",
       "    </tr>\n",
       "  </tbody>\n",
       "</table>\n",
       "</div>"
      ],
      "text/plain": [
       "  changeset        id         lat           lon             timestamp  \\\n",
       "0  45401766  31551114  36.1662859   -115.149225  2017-01-23T14:55:12Z   \n",
       "1  15770302  31551289  36.0685037  -115.2037262  2013-04-18T07:52:34Z   \n",
       "2   7129896  31551290  36.0677428  -115.2105885  2011-01-30T03:51:34Z   \n",
       "3   7129896  31551291  36.0675724  -115.2143331  2011-01-30T03:51:34Z   \n",
       "4   7129896  31551345  36.0672624  -115.2149755  2011-01-30T03:51:34Z   \n",
       "\n",
       "       uid         user version  \n",
       "0    25975        AmZaf      10  \n",
       "1  1282393  Reno Editor       6  \n",
       "2   398919   gMitchellD       2  \n",
       "3   398919   gMitchellD       3  \n",
       "4   398919   gMitchellD       3  "
      ]
     },
     "execution_count": 9,
     "metadata": {},
     "output_type": "execute_result"
    }
   ],
   "source": [
    "all_nodes.head()"
   ]
  },
  {
   "cell_type": "markdown",
   "metadata": {},
   "source": [
    "## Ignoring Changeset\n",
    "Changeset does not provide us with any relevant info that is worth looking into, thus I will drop the column altogether. \n",
    "## Converting timestamp\n",
    "Dropping 'Timestamp' to two columns as 'Time' and 'Date'"
   ]
  },
  {
   "cell_type": "code",
   "execution_count": 10,
   "metadata": {
    "collapsed": true
   },
   "outputs": [],
   "source": [
    "def func_for_date(row):\n",
    "    return row['timestamp'].split('T')[0]\n",
    "def func_for_time(row):\n",
    "    return row['timestamp'].split('T',1)[1].strip('Z')"
   ]
  },
  {
   "cell_type": "code",
   "execution_count": 11,
   "metadata": {
    "collapsed": false
   },
   "outputs": [],
   "source": [
    "def edit_basic(df):\n",
    "    del df['changeset']\n",
    "    df['date']=df.apply(func_for_date,axis=1)\n",
    "    df['time']=df.apply(func_for_time,axis=1)\n",
    "    del df['timestamp']\n",
    "    return df"
   ]
  },
  {
   "cell_type": "code",
   "execution_count": 12,
   "metadata": {
    "collapsed": false
   },
   "outputs": [],
   "source": [
    "all_nodes=edit_basic(all_nodes)"
   ]
  },
  {
   "cell_type": "markdown",
   "metadata": {},
   "source": [
    "## Users can have a different SQL table identified uniquely by uid. "
   ]
  },
  {
   "cell_type": "code",
   "execution_count": 13,
   "metadata": {
    "collapsed": false
   },
   "outputs": [],
   "source": [
    "def get_users(df):\n",
    "    \"\"\"a=set()\n",
    "    for i in range(len(df)):\n",
    "        b=(df.iloc[i]['uid'],df.iloc[i]['user'])\n",
    "        a.add(b)\"\"\"\n",
    "    a=df[['user','uid']]\n",
    "    a=a.drop_duplicates()\n",
    "    return a"
   ]
  },
  {
   "cell_type": "code",
   "execution_count": 14,
   "metadata": {
    "collapsed": false
   },
   "outputs": [],
   "source": [
    "all_users=get_users(all_nodes)\n",
    "#a=pd.DataFrame(list(all_users),columns=['uid','user'])\n",
    "del(all_nodes['user'])"
   ]
  },
  {
   "cell_type": "code",
   "execution_count": 15,
   "metadata": {
    "collapsed": false
   },
   "outputs": [
    {
     "data": {
      "text/html": [
       "<div>\n",
       "<table border=\"1\" class=\"dataframe\">\n",
       "  <thead>\n",
       "    <tr style=\"text-align: right;\">\n",
       "      <th></th>\n",
       "      <th>user</th>\n",
       "      <th>uid</th>\n",
       "    </tr>\n",
       "  </thead>\n",
       "  <tbody>\n",
       "    <tr>\n",
       "      <th>0</th>\n",
       "      <td>AmZaf</td>\n",
       "      <td>25975</td>\n",
       "    </tr>\n",
       "    <tr>\n",
       "      <th>1</th>\n",
       "      <td>Reno Editor</td>\n",
       "      <td>1282393</td>\n",
       "    </tr>\n",
       "    <tr>\n",
       "      <th>2</th>\n",
       "      <td>gMitchellD</td>\n",
       "      <td>398919</td>\n",
       "    </tr>\n",
       "    <tr>\n",
       "      <th>6</th>\n",
       "      <td>NE2</td>\n",
       "      <td>207745</td>\n",
       "    </tr>\n",
       "    <tr>\n",
       "      <th>7</th>\n",
       "      <td>woodpeck_repair</td>\n",
       "      <td>145231</td>\n",
       "    </tr>\n",
       "  </tbody>\n",
       "</table>\n",
       "</div>"
      ],
      "text/plain": [
       "              user      uid\n",
       "0            AmZaf    25975\n",
       "1      Reno Editor  1282393\n",
       "2       gMitchellD   398919\n",
       "6              NE2   207745\n",
       "7  woodpeck_repair   145231"
      ]
     },
     "execution_count": 15,
     "metadata": {},
     "output_type": "execute_result"
    }
   ],
   "source": [
    "all_users.head()"
   ]
  },
  {
   "cell_type": "code",
   "execution_count": 16,
   "metadata": {
    "collapsed": false
   },
   "outputs": [
    {
     "data": {
      "text/html": [
       "<div>\n",
       "<table border=\"1\" class=\"dataframe\">\n",
       "  <thead>\n",
       "    <tr style=\"text-align: right;\">\n",
       "      <th></th>\n",
       "      <th>id</th>\n",
       "      <th>lat</th>\n",
       "      <th>lon</th>\n",
       "      <th>uid</th>\n",
       "      <th>version</th>\n",
       "      <th>date</th>\n",
       "      <th>time</th>\n",
       "    </tr>\n",
       "  </thead>\n",
       "  <tbody>\n",
       "    <tr>\n",
       "      <th>0</th>\n",
       "      <td>31551114</td>\n",
       "      <td>36.1662859</td>\n",
       "      <td>-115.149225</td>\n",
       "      <td>25975</td>\n",
       "      <td>10</td>\n",
       "      <td>2017-01-23</td>\n",
       "      <td>14:55:12</td>\n",
       "    </tr>\n",
       "    <tr>\n",
       "      <th>1</th>\n",
       "      <td>31551289</td>\n",
       "      <td>36.0685037</td>\n",
       "      <td>-115.2037262</td>\n",
       "      <td>1282393</td>\n",
       "      <td>6</td>\n",
       "      <td>2013-04-18</td>\n",
       "      <td>07:52:34</td>\n",
       "    </tr>\n",
       "    <tr>\n",
       "      <th>2</th>\n",
       "      <td>31551290</td>\n",
       "      <td>36.0677428</td>\n",
       "      <td>-115.2105885</td>\n",
       "      <td>398919</td>\n",
       "      <td>2</td>\n",
       "      <td>2011-01-30</td>\n",
       "      <td>03:51:34</td>\n",
       "    </tr>\n",
       "    <tr>\n",
       "      <th>3</th>\n",
       "      <td>31551291</td>\n",
       "      <td>36.0675724</td>\n",
       "      <td>-115.2143331</td>\n",
       "      <td>398919</td>\n",
       "      <td>3</td>\n",
       "      <td>2011-01-30</td>\n",
       "      <td>03:51:34</td>\n",
       "    </tr>\n",
       "    <tr>\n",
       "      <th>4</th>\n",
       "      <td>31551345</td>\n",
       "      <td>36.0672624</td>\n",
       "      <td>-115.2149755</td>\n",
       "      <td>398919</td>\n",
       "      <td>3</td>\n",
       "      <td>2011-01-30</td>\n",
       "      <td>03:51:34</td>\n",
       "    </tr>\n",
       "  </tbody>\n",
       "</table>\n",
       "</div>"
      ],
      "text/plain": [
       "         id         lat           lon      uid version        date      time\n",
       "0  31551114  36.1662859   -115.149225    25975      10  2017-01-23  14:55:12\n",
       "1  31551289  36.0685037  -115.2037262  1282393       6  2013-04-18  07:52:34\n",
       "2  31551290  36.0677428  -115.2105885   398919       2  2011-01-30  03:51:34\n",
       "3  31551291  36.0675724  -115.2143331   398919       3  2011-01-30  03:51:34\n",
       "4  31551345  36.0672624  -115.2149755   398919       3  2011-01-30  03:51:34"
      ]
     },
     "execution_count": 16,
     "metadata": {},
     "output_type": "execute_result"
    }
   ],
   "source": [
    "all_nodes.head()"
   ]
  },
  {
   "cell_type": "markdown",
   "metadata": {},
   "source": [
    "## 2. node_tags"
   ]
  },
  {
   "cell_type": "code",
   "execution_count": 17,
   "metadata": {
    "collapsed": false
   },
   "outputs": [
    {
     "data": {
      "text/html": [
       "<div>\n",
       "<table border=\"1\" class=\"dataframe\">\n",
       "  <thead>\n",
       "    <tr style=\"text-align: right;\">\n",
       "      <th></th>\n",
       "      <th>id</th>\n",
       "      <th>key</th>\n",
       "      <th>type</th>\n",
       "      <th>value</th>\n",
       "    </tr>\n",
       "  </thead>\n",
       "  <tbody>\n",
       "    <tr>\n",
       "      <th>0</th>\n",
       "      <td>31551114</td>\n",
       "      <td>is_in</td>\n",
       "      <td>regular</td>\n",
       "      <td>Nevada</td>\n",
       "    </tr>\n",
       "    <tr>\n",
       "      <th>1</th>\n",
       "      <td>31551114</td>\n",
       "      <td>continent</td>\n",
       "      <td>is_in</td>\n",
       "      <td>North America</td>\n",
       "    </tr>\n",
       "    <tr>\n",
       "      <th>2</th>\n",
       "      <td>31551114</td>\n",
       "      <td>country</td>\n",
       "      <td>is_in</td>\n",
       "      <td>USA</td>\n",
       "    </tr>\n",
       "    <tr>\n",
       "      <th>3</th>\n",
       "      <td>31551114</td>\n",
       "      <td>name</td>\n",
       "      <td>regular</td>\n",
       "      <td>Las Vegas</td>\n",
       "    </tr>\n",
       "    <tr>\n",
       "      <th>4</th>\n",
       "      <td>31551114</td>\n",
       "      <td>ar</td>\n",
       "      <td>name</td>\n",
       "      <td>لاس فيغاس</td>\n",
       "    </tr>\n",
       "  </tbody>\n",
       "</table>\n",
       "</div>"
      ],
      "text/plain": [
       "         id        key     type          value\n",
       "0  31551114      is_in  regular         Nevada\n",
       "1  31551114  continent    is_in  North America\n",
       "2  31551114    country    is_in            USA\n",
       "3  31551114       name  regular      Las Vegas\n",
       "4  31551114         ar     name      لاس فيغاس"
      ]
     },
     "execution_count": 17,
     "metadata": {},
     "output_type": "execute_result"
    }
   ],
   "source": [
    "node_tags.head()"
   ]
  },
  {
   "cell_type": "markdown",
   "metadata": {},
   "source": [
    "### We, see that there are some rows with info regarding Las Vegas, the city as a whole. We make a different df for these values. \n",
    "It quite noticeable that the first three rows are inconsistent or aren't uniform. We sort that out as well.\n"
   ]
  },
  {
   "cell_type": "code",
   "execution_count": 18,
   "metadata": {
    "collapsed": true
   },
   "outputs": [],
   "source": [
    "node_tags.iloc[0].type='is_in'\n",
    "node_tags.iloc[0].key='state'\n",
    "city_info=node_tags.loc[node_tags.id=='31551114']\n",
    "del city_info['id']"
   ]
  },
  {
   "cell_type": "code",
   "execution_count": 19,
   "metadata": {
    "collapsed": false
   },
   "outputs": [
    {
     "data": {
      "text/html": [
       "<div>\n",
       "<table border=\"1\" class=\"dataframe\">\n",
       "  <thead>\n",
       "    <tr style=\"text-align: right;\">\n",
       "      <th></th>\n",
       "      <th>key</th>\n",
       "      <th>type</th>\n",
       "      <th>value</th>\n",
       "    </tr>\n",
       "  </thead>\n",
       "  <tbody>\n",
       "    <tr>\n",
       "      <th>0</th>\n",
       "      <td>state</td>\n",
       "      <td>is_in</td>\n",
       "      <td>Nevada</td>\n",
       "    </tr>\n",
       "    <tr>\n",
       "      <th>1</th>\n",
       "      <td>continent</td>\n",
       "      <td>is_in</td>\n",
       "      <td>North America</td>\n",
       "    </tr>\n",
       "    <tr>\n",
       "      <th>2</th>\n",
       "      <td>country</td>\n",
       "      <td>is_in</td>\n",
       "      <td>USA</td>\n",
       "    </tr>\n",
       "    <tr>\n",
       "      <th>3</th>\n",
       "      <td>name</td>\n",
       "      <td>regular</td>\n",
       "      <td>Las Vegas</td>\n",
       "    </tr>\n",
       "    <tr>\n",
       "      <th>4</th>\n",
       "      <td>ar</td>\n",
       "      <td>name</td>\n",
       "      <td>لاس فيغاس</td>\n",
       "    </tr>\n",
       "  </tbody>\n",
       "</table>\n",
       "</div>"
      ],
      "text/plain": [
       "         key     type          value\n",
       "0      state    is_in         Nevada\n",
       "1  continent    is_in  North America\n",
       "2    country    is_in            USA\n",
       "3       name  regular      Las Vegas\n",
       "4         ar     name      لاس فيغاس"
      ]
     },
     "execution_count": 19,
     "metadata": {},
     "output_type": "execute_result"
    }
   ],
   "source": [
    "city_info.head()"
   ]
  },
  {
   "cell_type": "markdown",
   "metadata": {},
   "source": [
    "## Editing Postal Codes\n",
    "\n",
    "a. We see that some postal codes are rather specific in nature. For these we just take in the first five numbers. \n",
    "b. Others start with NV for Nevada. \n",
    "c. We skip the rest."
   ]
  },
  {
   "cell_type": "code",
   "execution_count": 20,
   "metadata": {
    "collapsed": false
   },
   "outputs": [
    {
     "data": {
      "text/html": [
       "<div>\n",
       "<table border=\"1\" class=\"dataframe\">\n",
       "  <thead>\n",
       "    <tr style=\"text-align: right;\">\n",
       "      <th></th>\n",
       "      <th>id</th>\n",
       "      <th>key</th>\n",
       "      <th>type</th>\n",
       "      <th>value</th>\n",
       "    </tr>\n",
       "  </thead>\n",
       "  <tbody>\n",
       "    <tr>\n",
       "      <th>26604</th>\n",
       "      <td>993789695</td>\n",
       "      <td>postcode</td>\n",
       "      <td>addr</td>\n",
       "      <td>89119-1001</td>\n",
       "    </tr>\n",
       "    <tr>\n",
       "      <th>33080</th>\n",
       "      <td>1700469005</td>\n",
       "      <td>postcode</td>\n",
       "      <td>addr</td>\n",
       "      <td>89109-1907</td>\n",
       "    </tr>\n",
       "    <tr>\n",
       "      <th>33197</th>\n",
       "      <td>1721875458</td>\n",
       "      <td>postcode</td>\n",
       "      <td>addr</td>\n",
       "      <td>8929</td>\n",
       "    </tr>\n",
       "    <tr>\n",
       "      <th>48425</th>\n",
       "      <td>2540047619</td>\n",
       "      <td>postcode</td>\n",
       "      <td>addr</td>\n",
       "      <td>NV 89117</td>\n",
       "    </tr>\n",
       "    <tr>\n",
       "      <th>48547</th>\n",
       "      <td>2572969955</td>\n",
       "      <td>postcode</td>\n",
       "      <td>addr</td>\n",
       "      <td>NV 89123</td>\n",
       "    </tr>\n",
       "  </tbody>\n",
       "</table>\n",
       "</div>"
      ],
      "text/plain": [
       "               id       key  type       value\n",
       "26604   993789695  postcode  addr  89119-1001\n",
       "33080  1700469005  postcode  addr  89109-1907\n",
       "33197  1721875458  postcode  addr        8929\n",
       "48425  2540047619  postcode  addr    NV 89117\n",
       "48547  2572969955  postcode  addr    NV 89123"
      ]
     },
     "execution_count": 20,
     "metadata": {},
     "output_type": "execute_result"
    }
   ],
   "source": [
    "node_tags.loc[(node_tags.key=='postcode') & (node_tags.value.str.len()!=5)].head()"
   ]
  },
  {
   "cell_type": "code",
   "execution_count": 21,
   "metadata": {
    "collapsed": false
   },
   "outputs": [],
   "source": [
    "def edit_postcode(p):\n",
    "    if len(p)>5:\n",
    "        if p[5]=='-':\n",
    "            return p[:5]\n",
    "        elif p[0]=='N':\n",
    "            return p[3:]\n",
    "    return p"
   ]
  },
  {
   "cell_type": "code",
   "execution_count": 22,
   "metadata": {
    "collapsed": false
   },
   "outputs": [],
   "source": [
    "def edit_pcodes(df):\n",
    "    for i in range(len(df)):\n",
    "        if df.iloc[i]['key']=='postcode':\n",
    "            df.iloc[i]['value']=edit_postcode(df.iloc[i]['value'])\n",
    "    return df"
   ]
  },
  {
   "cell_type": "code",
   "execution_count": 23,
   "metadata": {
    "collapsed": true
   },
   "outputs": [],
   "source": [
    "node_tags=edit_pcodes(node_tags)"
   ]
  },
  {
   "cell_type": "markdown",
   "metadata": {},
   "source": [
    "## 3. all_ways"
   ]
  },
  {
   "cell_type": "code",
   "execution_count": 24,
   "metadata": {
    "collapsed": false
   },
   "outputs": [
    {
     "data": {
      "text/html": [
       "<div>\n",
       "<table border=\"1\" class=\"dataframe\">\n",
       "  <thead>\n",
       "    <tr style=\"text-align: right;\">\n",
       "      <th></th>\n",
       "      <th>changeset</th>\n",
       "      <th>id</th>\n",
       "      <th>timestamp</th>\n",
       "      <th>uid</th>\n",
       "      <th>user</th>\n",
       "      <th>version</th>\n",
       "    </tr>\n",
       "  </thead>\n",
       "  <tbody>\n",
       "    <tr>\n",
       "      <th>0</th>\n",
       "      <td>10364623</td>\n",
       "      <td>4879375</td>\n",
       "      <td>2012-01-11T21:28:27Z</td>\n",
       "      <td>92286</td>\n",
       "      <td>Paul Johnson</td>\n",
       "      <td>8</td>\n",
       "    </tr>\n",
       "    <tr>\n",
       "      <th>1</th>\n",
       "      <td>11581490</td>\n",
       "      <td>7149377</td>\n",
       "      <td>2012-05-12T22:59:41Z</td>\n",
       "      <td>121241</td>\n",
       "      <td>zephyr</td>\n",
       "      <td>7</td>\n",
       "    </tr>\n",
       "    <tr>\n",
       "      <th>2</th>\n",
       "      <td>49171267</td>\n",
       "      <td>14278330</td>\n",
       "      <td>2017-06-01T17:05:13Z</td>\n",
       "      <td>1330847</td>\n",
       "      <td>TheDutchMan13</td>\n",
       "      <td>3</td>\n",
       "    </tr>\n",
       "    <tr>\n",
       "      <th>3</th>\n",
       "      <td>49171267</td>\n",
       "      <td>14278332</td>\n",
       "      <td>2017-06-01T17:05:13Z</td>\n",
       "      <td>1330847</td>\n",
       "      <td>TheDutchMan13</td>\n",
       "      <td>3</td>\n",
       "    </tr>\n",
       "    <tr>\n",
       "      <th>4</th>\n",
       "      <td>47352899</td>\n",
       "      <td>14278334</td>\n",
       "      <td>2017-04-01T12:01:54Z</td>\n",
       "      <td>360392</td>\n",
       "      <td>maxerickson</td>\n",
       "      <td>3</td>\n",
       "    </tr>\n",
       "  </tbody>\n",
       "</table>\n",
       "</div>"
      ],
      "text/plain": [
       "  changeset        id             timestamp      uid           user version\n",
       "0  10364623   4879375  2012-01-11T21:28:27Z    92286   Paul Johnson       8\n",
       "1  11581490   7149377  2012-05-12T22:59:41Z   121241         zephyr       7\n",
       "2  49171267  14278330  2017-06-01T17:05:13Z  1330847  TheDutchMan13       3\n",
       "3  49171267  14278332  2017-06-01T17:05:13Z  1330847  TheDutchMan13       3\n",
       "4  47352899  14278334  2017-04-01T12:01:54Z   360392    maxerickson       3"
      ]
     },
     "execution_count": 24,
     "metadata": {},
     "output_type": "execute_result"
    }
   ],
   "source": [
    "all_ways.head()"
   ]
  },
  {
   "cell_type": "markdown",
   "metadata": {},
   "source": [
    "### Editing the above Dataframe same as I did with all_nodes."
   ]
  },
  {
   "cell_type": "code",
   "execution_count": 25,
   "metadata": {
    "collapsed": false
   },
   "outputs": [
    {
     "data": {
      "text/html": [
       "<div>\n",
       "<table border=\"1\" class=\"dataframe\">\n",
       "  <thead>\n",
       "    <tr style=\"text-align: right;\">\n",
       "      <th></th>\n",
       "      <th>id</th>\n",
       "      <th>uid</th>\n",
       "      <th>user</th>\n",
       "      <th>version</th>\n",
       "      <th>date</th>\n",
       "      <th>time</th>\n",
       "    </tr>\n",
       "  </thead>\n",
       "  <tbody>\n",
       "    <tr>\n",
       "      <th>0</th>\n",
       "      <td>4879375</td>\n",
       "      <td>92286</td>\n",
       "      <td>Paul Johnson</td>\n",
       "      <td>8</td>\n",
       "      <td>2012-01-11</td>\n",
       "      <td>21:28:27</td>\n",
       "    </tr>\n",
       "    <tr>\n",
       "      <th>1</th>\n",
       "      <td>7149377</td>\n",
       "      <td>121241</td>\n",
       "      <td>zephyr</td>\n",
       "      <td>7</td>\n",
       "      <td>2012-05-12</td>\n",
       "      <td>22:59:41</td>\n",
       "    </tr>\n",
       "    <tr>\n",
       "      <th>2</th>\n",
       "      <td>14278330</td>\n",
       "      <td>1330847</td>\n",
       "      <td>TheDutchMan13</td>\n",
       "      <td>3</td>\n",
       "      <td>2017-06-01</td>\n",
       "      <td>17:05:13</td>\n",
       "    </tr>\n",
       "    <tr>\n",
       "      <th>3</th>\n",
       "      <td>14278332</td>\n",
       "      <td>1330847</td>\n",
       "      <td>TheDutchMan13</td>\n",
       "      <td>3</td>\n",
       "      <td>2017-06-01</td>\n",
       "      <td>17:05:13</td>\n",
       "    </tr>\n",
       "    <tr>\n",
       "      <th>4</th>\n",
       "      <td>14278334</td>\n",
       "      <td>360392</td>\n",
       "      <td>maxerickson</td>\n",
       "      <td>3</td>\n",
       "      <td>2017-04-01</td>\n",
       "      <td>12:01:54</td>\n",
       "    </tr>\n",
       "  </tbody>\n",
       "</table>\n",
       "</div>"
      ],
      "text/plain": [
       "         id      uid           user version        date      time\n",
       "0   4879375    92286   Paul Johnson       8  2012-01-11  21:28:27\n",
       "1   7149377   121241         zephyr       7  2012-05-12  22:59:41\n",
       "2  14278330  1330847  TheDutchMan13       3  2017-06-01  17:05:13\n",
       "3  14278332  1330847  TheDutchMan13       3  2017-06-01  17:05:13\n",
       "4  14278334   360392    maxerickson       3  2017-04-01  12:01:54"
      ]
     },
     "execution_count": 25,
     "metadata": {},
     "output_type": "execute_result"
    }
   ],
   "source": [
    "all_ways=edit_basic(all_ways)\n",
    "all_ways.head()"
   ]
  },
  {
   "cell_type": "code",
   "execution_count": 26,
   "metadata": {
    "collapsed": false
   },
   "outputs": [],
   "source": [
    "all_users=pd.concat([all_users,get_users(all_ways)])\n",
    "del(all_ways['user'])"
   ]
  },
  {
   "cell_type": "code",
   "execution_count": 27,
   "metadata": {
    "collapsed": true
   },
   "outputs": [],
   "source": [
    "all_users=all_users.drop_duplicates()"
   ]
  },
  {
   "cell_type": "code",
   "execution_count": 28,
   "metadata": {
    "collapsed": false
   },
   "outputs": [
    {
     "data": {
      "text/html": [
       "<div>\n",
       "<table border=\"1\" class=\"dataframe\">\n",
       "  <thead>\n",
       "    <tr style=\"text-align: right;\">\n",
       "      <th></th>\n",
       "      <th>user</th>\n",
       "      <th>uid</th>\n",
       "    </tr>\n",
       "  </thead>\n",
       "  <tbody>\n",
       "    <tr>\n",
       "      <th>count</th>\n",
       "      <td>1053</td>\n",
       "      <td>1053</td>\n",
       "    </tr>\n",
       "    <tr>\n",
       "      <th>unique</th>\n",
       "      <td>1053</td>\n",
       "      <td>1052</td>\n",
       "    </tr>\n",
       "    <tr>\n",
       "      <th>top</th>\n",
       "      <td>understan</td>\n",
       "      <td>605155</td>\n",
       "    </tr>\n",
       "    <tr>\n",
       "      <th>freq</th>\n",
       "      <td>1</td>\n",
       "      <td>2</td>\n",
       "    </tr>\n",
       "  </tbody>\n",
       "</table>\n",
       "</div>"
      ],
      "text/plain": [
       "             user     uid\n",
       "count        1053    1053\n",
       "unique       1053    1052\n",
       "top     understan  605155\n",
       "freq            1       2"
      ]
     },
     "execution_count": 28,
     "metadata": {},
     "output_type": "execute_result"
    }
   ],
   "source": [
    "all_users.describe()"
   ]
  },
  {
   "cell_type": "code",
   "execution_count": 29,
   "metadata": {
    "collapsed": false,
    "scrolled": true
   },
   "outputs": [
    {
     "data": {
      "text/html": [
       "<div>\n",
       "<table border=\"1\" class=\"dataframe\">\n",
       "  <thead>\n",
       "    <tr style=\"text-align: right;\">\n",
       "      <th></th>\n",
       "      <th>id</th>\n",
       "      <th>uid</th>\n",
       "      <th>version</th>\n",
       "      <th>date</th>\n",
       "      <th>time</th>\n",
       "    </tr>\n",
       "  </thead>\n",
       "  <tbody>\n",
       "    <tr>\n",
       "      <th>0</th>\n",
       "      <td>4879375</td>\n",
       "      <td>92286</td>\n",
       "      <td>8</td>\n",
       "      <td>2012-01-11</td>\n",
       "      <td>21:28:27</td>\n",
       "    </tr>\n",
       "    <tr>\n",
       "      <th>1</th>\n",
       "      <td>7149377</td>\n",
       "      <td>121241</td>\n",
       "      <td>7</td>\n",
       "      <td>2012-05-12</td>\n",
       "      <td>22:59:41</td>\n",
       "    </tr>\n",
       "    <tr>\n",
       "      <th>2</th>\n",
       "      <td>14278330</td>\n",
       "      <td>1330847</td>\n",
       "      <td>3</td>\n",
       "      <td>2017-06-01</td>\n",
       "      <td>17:05:13</td>\n",
       "    </tr>\n",
       "    <tr>\n",
       "      <th>3</th>\n",
       "      <td>14278332</td>\n",
       "      <td>1330847</td>\n",
       "      <td>3</td>\n",
       "      <td>2017-06-01</td>\n",
       "      <td>17:05:13</td>\n",
       "    </tr>\n",
       "    <tr>\n",
       "      <th>4</th>\n",
       "      <td>14278334</td>\n",
       "      <td>360392</td>\n",
       "      <td>3</td>\n",
       "      <td>2017-04-01</td>\n",
       "      <td>12:01:54</td>\n",
       "    </tr>\n",
       "  </tbody>\n",
       "</table>\n",
       "</div>"
      ],
      "text/plain": [
       "         id      uid version        date      time\n",
       "0   4879375    92286       8  2012-01-11  21:28:27\n",
       "1   7149377   121241       7  2012-05-12  22:59:41\n",
       "2  14278330  1330847       3  2017-06-01  17:05:13\n",
       "3  14278332  1330847       3  2017-06-01  17:05:13\n",
       "4  14278334   360392       3  2017-04-01  12:01:54"
      ]
     },
     "execution_count": 29,
     "metadata": {},
     "output_type": "execute_result"
    }
   ],
   "source": [
    "all_ways.head()"
   ]
  },
  {
   "cell_type": "markdown",
   "metadata": {},
   "source": [
    "## 4. way_tags"
   ]
  },
  {
   "cell_type": "code",
   "execution_count": 30,
   "metadata": {
    "collapsed": false,
    "scrolled": false
   },
   "outputs": [
    {
     "data": {
      "text/html": [
       "<div>\n",
       "<table border=\"1\" class=\"dataframe\">\n",
       "  <thead>\n",
       "    <tr style=\"text-align: right;\">\n",
       "      <th></th>\n",
       "      <th>id</th>\n",
       "      <th>key</th>\n",
       "      <th>type</th>\n",
       "      <th>value</th>\n",
       "    </tr>\n",
       "  </thead>\n",
       "  <tbody>\n",
       "    <tr>\n",
       "      <th>0</th>\n",
       "      <td>4879375</td>\n",
       "      <td>ref</td>\n",
       "      <td>regular</td>\n",
       "      <td>CR 215</td>\n",
       "    </tr>\n",
       "    <tr>\n",
       "      <th>1</th>\n",
       "      <td>4879375</td>\n",
       "      <td>name</td>\n",
       "      <td>regular</td>\n",
       "      <td>Bruce Woodbury Beltway</td>\n",
       "    </tr>\n",
       "    <tr>\n",
       "      <th>2</th>\n",
       "      <td>4879375</td>\n",
       "      <td>FIXME</td>\n",
       "      <td>regular</td>\n",
       "      <td>check lanes; are bikes allowed?</td>\n",
       "    </tr>\n",
       "    <tr>\n",
       "      <th>3</th>\n",
       "      <td>4879375</td>\n",
       "      <td>lanes</td>\n",
       "      <td>regular</td>\n",
       "      <td>2</td>\n",
       "    </tr>\n",
       "    <tr>\n",
       "      <th>4</th>\n",
       "      <td>4879375</td>\n",
       "      <td>oneway</td>\n",
       "      <td>regular</td>\n",
       "      <td>yes</td>\n",
       "    </tr>\n",
       "  </tbody>\n",
       "</table>\n",
       "</div>"
      ],
      "text/plain": [
       "        id     key     type                            value\n",
       "0  4879375     ref  regular                           CR 215\n",
       "1  4879375    name  regular           Bruce Woodbury Beltway\n",
       "2  4879375   FIXME  regular  check lanes; are bikes allowed?\n",
       "3  4879375   lanes  regular                                2\n",
       "4  4879375  oneway  regular                              yes"
      ]
     },
     "execution_count": 30,
     "metadata": {},
     "output_type": "execute_result"
    }
   ],
   "source": [
    "way_tags.head()"
   ]
  },
  {
   "cell_type": "code",
   "execution_count": 31,
   "metadata": {
    "collapsed": false
   },
   "outputs": [],
   "source": [
    "#way_tags postcodes\n",
    "way_tags=edit_pcodes(way_tags)"
   ]
  },
  {
   "cell_type": "code",
   "execution_count": 32,
   "metadata": {
    "collapsed": false
   },
   "outputs": [
    {
     "data": {
      "text/html": [
       "<div>\n",
       "<table border=\"1\" class=\"dataframe\">\n",
       "  <thead>\n",
       "    <tr style=\"text-align: right;\">\n",
       "      <th></th>\n",
       "      <th>id</th>\n",
       "      <th>key</th>\n",
       "      <th>type</th>\n",
       "      <th>value</th>\n",
       "    </tr>\n",
       "  </thead>\n",
       "  <tbody>\n",
       "    <tr>\n",
       "      <th>2</th>\n",
       "      <td>4879375</td>\n",
       "      <td>FIXME</td>\n",
       "      <td>regular</td>\n",
       "      <td>check lanes; are bikes allowed?</td>\n",
       "    </tr>\n",
       "    <tr>\n",
       "      <th>466</th>\n",
       "      <td>14279106</td>\n",
       "      <td>FIXME</td>\n",
       "      <td>regular</td>\n",
       "      <td>are bikes allowed?</td>\n",
       "    </tr>\n",
       "    <tr>\n",
       "      <th>473</th>\n",
       "      <td>14279108</td>\n",
       "      <td>FIXME</td>\n",
       "      <td>regular</td>\n",
       "      <td>are bikes allowed?</td>\n",
       "    </tr>\n",
       "    <tr>\n",
       "      <th>480</th>\n",
       "      <td>14279112</td>\n",
       "      <td>FIXME</td>\n",
       "      <td>regular</td>\n",
       "      <td>are bikes allowed?</td>\n",
       "    </tr>\n",
       "    <tr>\n",
       "      <th>588</th>\n",
       "      <td>14279371</td>\n",
       "      <td>FIXME</td>\n",
       "      <td>regular</td>\n",
       "      <td>verfiy bicycle=yes</td>\n",
       "    </tr>\n",
       "    <tr>\n",
       "      <th>623</th>\n",
       "      <td>14279500</td>\n",
       "      <td>FIXME</td>\n",
       "      <td>regular</td>\n",
       "      <td>verfiy bicycle=yes</td>\n",
       "    </tr>\n",
       "    <tr>\n",
       "      <th>629</th>\n",
       "      <td>14279505</td>\n",
       "      <td>FIXME</td>\n",
       "      <td>regular</td>\n",
       "      <td>are bikes allowed?</td>\n",
       "    </tr>\n",
       "    <tr>\n",
       "      <th>634</th>\n",
       "      <td>14279509</td>\n",
       "      <td>FIXME</td>\n",
       "      <td>regular</td>\n",
       "      <td>verfiy bicycle=yes</td>\n",
       "    </tr>\n",
       "    <tr>\n",
       "      <th>668</th>\n",
       "      <td>14279670</td>\n",
       "      <td>FIXME</td>\n",
       "      <td>regular</td>\n",
       "      <td>reconfigured?</td>\n",
       "    </tr>\n",
       "    <tr>\n",
       "      <th>1084</th>\n",
       "      <td>14281502</td>\n",
       "      <td>FIXME</td>\n",
       "      <td>regular</td>\n",
       "      <td>are bikes allowed?</td>\n",
       "    </tr>\n",
       "    <tr>\n",
       "      <th>1143</th>\n",
       "      <td>14281802</td>\n",
       "      <td>FIXME</td>\n",
       "      <td>regular</td>\n",
       "      <td>verfiy bicycle=yes</td>\n",
       "    </tr>\n",
       "    <tr>\n",
       "      <th>1185</th>\n",
       "      <td>14281932</td>\n",
       "      <td>FIXME</td>\n",
       "      <td>regular</td>\n",
       "      <td>verfiy bicycle=yes</td>\n",
       "    </tr>\n",
       "    <tr>\n",
       "      <th>1820</th>\n",
       "      <td>14283629</td>\n",
       "      <td>FIXME</td>\n",
       "      <td>regular</td>\n",
       "      <td>check name</td>\n",
       "    </tr>\n",
       "    <tr>\n",
       "      <th>2045</th>\n",
       "      <td>14284230</td>\n",
       "      <td>FIXME</td>\n",
       "      <td>regular</td>\n",
       "      <td>are bikes allowed?</td>\n",
       "    </tr>\n",
       "    <tr>\n",
       "      <th>3950</th>\n",
       "      <td>14289421</td>\n",
       "      <td>FIXME</td>\n",
       "      <td>regular</td>\n",
       "      <td>are bikes allowed?</td>\n",
       "    </tr>\n",
       "    <tr>\n",
       "      <th>4198</th>\n",
       "      <td>14290141</td>\n",
       "      <td>FIXME</td>\n",
       "      <td>regular</td>\n",
       "      <td>are bikes allowed?</td>\n",
       "    </tr>\n",
       "    <tr>\n",
       "      <th>4418</th>\n",
       "      <td>14290505</td>\n",
       "      <td>FIXME</td>\n",
       "      <td>regular</td>\n",
       "      <td>verfiy bicycle=yes</td>\n",
       "    </tr>\n",
       "    <tr>\n",
       "      <th>4775</th>\n",
       "      <td>14291010</td>\n",
       "      <td>FIXME</td>\n",
       "      <td>regular</td>\n",
       "      <td>reconfigured?</td>\n",
       "    </tr>\n",
       "    <tr>\n",
       "      <th>4842</th>\n",
       "      <td>14291048</td>\n",
       "      <td>FIXME</td>\n",
       "      <td>regular</td>\n",
       "      <td>verfiy bicycle=yes</td>\n",
       "    </tr>\n",
       "    <tr>\n",
       "      <th>5163</th>\n",
       "      <td>14291337</td>\n",
       "      <td>FIXME</td>\n",
       "      <td>regular</td>\n",
       "      <td>are bikes allowed?</td>\n",
       "    </tr>\n",
       "    <tr>\n",
       "      <th>5331</th>\n",
       "      <td>14291434</td>\n",
       "      <td>FIXME</td>\n",
       "      <td>regular</td>\n",
       "      <td>verfiy bicycle=yes</td>\n",
       "    </tr>\n",
       "    <tr>\n",
       "      <th>5379</th>\n",
       "      <td>14291479</td>\n",
       "      <td>FIXME</td>\n",
       "      <td>regular</td>\n",
       "      <td>verfiy bicycle=yes</td>\n",
       "    </tr>\n",
       "    <tr>\n",
       "      <th>5446</th>\n",
       "      <td>14291513</td>\n",
       "      <td>FIXME</td>\n",
       "      <td>regular</td>\n",
       "      <td>verfiy bicycle=yes</td>\n",
       "    </tr>\n",
       "    <tr>\n",
       "      <th>5670</th>\n",
       "      <td>14291675</td>\n",
       "      <td>FIXME</td>\n",
       "      <td>regular</td>\n",
       "      <td>verfiy bicycle=yes</td>\n",
       "    </tr>\n",
       "    <tr>\n",
       "      <th>40804</th>\n",
       "      <td>14299009</td>\n",
       "      <td>FIXME</td>\n",
       "      <td>regular</td>\n",
       "      <td>Divided highway</td>\n",
       "    </tr>\n",
       "    <tr>\n",
       "      <th>80460</th>\n",
       "      <td>14307445</td>\n",
       "      <td>FIXME</td>\n",
       "      <td>regular</td>\n",
       "      <td>verfiy bicycle=yes</td>\n",
       "    </tr>\n",
       "    <tr>\n",
       "      <th>82799</th>\n",
       "      <td>14307903</td>\n",
       "      <td>FIXME</td>\n",
       "      <td>regular</td>\n",
       "      <td>verfiy bicycle=yes</td>\n",
       "    </tr>\n",
       "    <tr>\n",
       "      <th>104955</th>\n",
       "      <td>14312366</td>\n",
       "      <td>FIXME</td>\n",
       "      <td>regular</td>\n",
       "      <td>Divided highway</td>\n",
       "    </tr>\n",
       "    <tr>\n",
       "      <th>106855</th>\n",
       "      <td>14312794</td>\n",
       "      <td>FIXME</td>\n",
       "      <td>regular</td>\n",
       "      <td>are bikes allowed?</td>\n",
       "    </tr>\n",
       "    <tr>\n",
       "      <th>155950</th>\n",
       "      <td>14322482</td>\n",
       "      <td>FIXME</td>\n",
       "      <td>regular</td>\n",
       "      <td>Area Needs Checking</td>\n",
       "    </tr>\n",
       "    <tr>\n",
       "      <th>...</th>\n",
       "      <td>...</td>\n",
       "      <td>...</td>\n",
       "      <td>...</td>\n",
       "      <td>...</td>\n",
       "    </tr>\n",
       "    <tr>\n",
       "      <th>376024</th>\n",
       "      <td>424918381</td>\n",
       "      <td>FIXME</td>\n",
       "      <td>regular</td>\n",
       "      <td>verfiy bicycle=yes</td>\n",
       "    </tr>\n",
       "    <tr>\n",
       "      <th>376035</th>\n",
       "      <td>424918383</td>\n",
       "      <td>FIXME</td>\n",
       "      <td>regular</td>\n",
       "      <td>verfiy bicycle=yes</td>\n",
       "    </tr>\n",
       "    <tr>\n",
       "      <th>376040</th>\n",
       "      <td>424918384</td>\n",
       "      <td>FIXME</td>\n",
       "      <td>regular</td>\n",
       "      <td>verfiy bicycle=yes</td>\n",
       "    </tr>\n",
       "    <tr>\n",
       "      <th>376045</th>\n",
       "      <td>424918385</td>\n",
       "      <td>FIXME</td>\n",
       "      <td>regular</td>\n",
       "      <td>verfiy bicycle=yes</td>\n",
       "    </tr>\n",
       "    <tr>\n",
       "      <th>376870</th>\n",
       "      <td>430920613</td>\n",
       "      <td>FIXME</td>\n",
       "      <td>regular</td>\n",
       "      <td>verfiy bicycle=yes</td>\n",
       "    </tr>\n",
       "    <tr>\n",
       "      <th>376878</th>\n",
       "      <td>430920614</td>\n",
       "      <td>FIXME</td>\n",
       "      <td>regular</td>\n",
       "      <td>verfiy bicycle=yes</td>\n",
       "    </tr>\n",
       "    <tr>\n",
       "      <th>377439</th>\n",
       "      <td>435072207</td>\n",
       "      <td>FIXME</td>\n",
       "      <td>regular</td>\n",
       "      <td>reconfigured?</td>\n",
       "    </tr>\n",
       "    <tr>\n",
       "      <th>377449</th>\n",
       "      <td>435072208</td>\n",
       "      <td>FIXME</td>\n",
       "      <td>regular</td>\n",
       "      <td>reconfigured?</td>\n",
       "    </tr>\n",
       "    <tr>\n",
       "      <th>377458</th>\n",
       "      <td>435072209</td>\n",
       "      <td>FIXME</td>\n",
       "      <td>regular</td>\n",
       "      <td>reconfigured?</td>\n",
       "    </tr>\n",
       "    <tr>\n",
       "      <th>377467</th>\n",
       "      <td>435072210</td>\n",
       "      <td>FIXME</td>\n",
       "      <td>regular</td>\n",
       "      <td>reconfigured?</td>\n",
       "    </tr>\n",
       "    <tr>\n",
       "      <th>380808</th>\n",
       "      <td>457819755</td>\n",
       "      <td>FIXME</td>\n",
       "      <td>regular</td>\n",
       "      <td>verfiy bicycle=yes</td>\n",
       "    </tr>\n",
       "    <tr>\n",
       "      <th>380900</th>\n",
       "      <td>457824207</td>\n",
       "      <td>FIXME</td>\n",
       "      <td>regular</td>\n",
       "      <td>dual carriageway</td>\n",
       "    </tr>\n",
       "    <tr>\n",
       "      <th>380975</th>\n",
       "      <td>457839022</td>\n",
       "      <td>FIXME</td>\n",
       "      <td>regular</td>\n",
       "      <td>dual carriageway</td>\n",
       "    </tr>\n",
       "    <tr>\n",
       "      <th>382531</th>\n",
       "      <td>460475610</td>\n",
       "      <td>FIXME</td>\n",
       "      <td>regular</td>\n",
       "      <td>check lanes</td>\n",
       "    </tr>\n",
       "    <tr>\n",
       "      <th>400845</th>\n",
       "      <td>488751533</td>\n",
       "      <td>FIXME</td>\n",
       "      <td>regular</td>\n",
       "      <td>Divided highway</td>\n",
       "    </tr>\n",
       "    <tr>\n",
       "      <th>400866</th>\n",
       "      <td>488751537</td>\n",
       "      <td>FIXME</td>\n",
       "      <td>regular</td>\n",
       "      <td>Divided highway</td>\n",
       "    </tr>\n",
       "    <tr>\n",
       "      <th>400877</th>\n",
       "      <td>488751538</td>\n",
       "      <td>FIXME</td>\n",
       "      <td>regular</td>\n",
       "      <td>Divided highway</td>\n",
       "    </tr>\n",
       "    <tr>\n",
       "      <th>400888</th>\n",
       "      <td>488751539</td>\n",
       "      <td>FIXME</td>\n",
       "      <td>regular</td>\n",
       "      <td>Divided highway</td>\n",
       "    </tr>\n",
       "    <tr>\n",
       "      <th>400909</th>\n",
       "      <td>488751541</td>\n",
       "      <td>FIXME</td>\n",
       "      <td>regular</td>\n",
       "      <td>Divided highway</td>\n",
       "    </tr>\n",
       "    <tr>\n",
       "      <th>400923</th>\n",
       "      <td>488751543</td>\n",
       "      <td>FIXME</td>\n",
       "      <td>regular</td>\n",
       "      <td>Divided highway</td>\n",
       "    </tr>\n",
       "    <tr>\n",
       "      <th>400934</th>\n",
       "      <td>488751544</td>\n",
       "      <td>FIXME</td>\n",
       "      <td>regular</td>\n",
       "      <td>Divided highway</td>\n",
       "    </tr>\n",
       "    <tr>\n",
       "      <th>401033</th>\n",
       "      <td>488755095</td>\n",
       "      <td>FIXME</td>\n",
       "      <td>regular</td>\n",
       "      <td>Divided highway</td>\n",
       "    </tr>\n",
       "    <tr>\n",
       "      <th>401087</th>\n",
       "      <td>488755103</td>\n",
       "      <td>FIXME</td>\n",
       "      <td>regular</td>\n",
       "      <td>Divided highway</td>\n",
       "    </tr>\n",
       "    <tr>\n",
       "      <th>401092</th>\n",
       "      <td>488756219</td>\n",
       "      <td>FIXME</td>\n",
       "      <td>regular</td>\n",
       "      <td>Divided highway</td>\n",
       "    </tr>\n",
       "    <tr>\n",
       "      <th>401105</th>\n",
       "      <td>488756224</td>\n",
       "      <td>FIXME</td>\n",
       "      <td>regular</td>\n",
       "      <td>Divided highway</td>\n",
       "    </tr>\n",
       "    <tr>\n",
       "      <th>401110</th>\n",
       "      <td>488756808</td>\n",
       "      <td>FIXME</td>\n",
       "      <td>regular</td>\n",
       "      <td>Divided highway</td>\n",
       "    </tr>\n",
       "    <tr>\n",
       "      <th>401114</th>\n",
       "      <td>488756809</td>\n",
       "      <td>FIXME</td>\n",
       "      <td>regular</td>\n",
       "      <td>Divided highway</td>\n",
       "    </tr>\n",
       "    <tr>\n",
       "      <th>401273</th>\n",
       "      <td>488793086</td>\n",
       "      <td>FIXME</td>\n",
       "      <td>regular</td>\n",
       "      <td>Divided highway</td>\n",
       "    </tr>\n",
       "    <tr>\n",
       "      <th>401837</th>\n",
       "      <td>489162618</td>\n",
       "      <td>FIXME</td>\n",
       "      <td>regular</td>\n",
       "      <td>dual carriageway</td>\n",
       "    </tr>\n",
       "    <tr>\n",
       "      <th>401855</th>\n",
       "      <td>489162625</td>\n",
       "      <td>FIXME</td>\n",
       "      <td>regular</td>\n",
       "      <td>dual carriageway</td>\n",
       "    </tr>\n",
       "  </tbody>\n",
       "</table>\n",
       "<p>368 rows × 4 columns</p>\n",
       "</div>"
      ],
      "text/plain": [
       "               id    key     type                            value\n",
       "2         4879375  FIXME  regular  check lanes; are bikes allowed?\n",
       "466      14279106  FIXME  regular               are bikes allowed?\n",
       "473      14279108  FIXME  regular               are bikes allowed?\n",
       "480      14279112  FIXME  regular               are bikes allowed?\n",
       "588      14279371  FIXME  regular               verfiy bicycle=yes\n",
       "623      14279500  FIXME  regular               verfiy bicycle=yes\n",
       "629      14279505  FIXME  regular               are bikes allowed?\n",
       "634      14279509  FIXME  regular               verfiy bicycle=yes\n",
       "668      14279670  FIXME  regular                    reconfigured?\n",
       "1084     14281502  FIXME  regular               are bikes allowed?\n",
       "1143     14281802  FIXME  regular               verfiy bicycle=yes\n",
       "1185     14281932  FIXME  regular               verfiy bicycle=yes\n",
       "1820     14283629  FIXME  regular                       check name\n",
       "2045     14284230  FIXME  regular               are bikes allowed?\n",
       "3950     14289421  FIXME  regular               are bikes allowed?\n",
       "4198     14290141  FIXME  regular               are bikes allowed?\n",
       "4418     14290505  FIXME  regular               verfiy bicycle=yes\n",
       "4775     14291010  FIXME  regular                    reconfigured?\n",
       "4842     14291048  FIXME  regular               verfiy bicycle=yes\n",
       "5163     14291337  FIXME  regular               are bikes allowed?\n",
       "5331     14291434  FIXME  regular               verfiy bicycle=yes\n",
       "5379     14291479  FIXME  regular               verfiy bicycle=yes\n",
       "5446     14291513  FIXME  regular               verfiy bicycle=yes\n",
       "5670     14291675  FIXME  regular               verfiy bicycle=yes\n",
       "40804    14299009  FIXME  regular                  Divided highway\n",
       "80460    14307445  FIXME  regular               verfiy bicycle=yes\n",
       "82799    14307903  FIXME  regular               verfiy bicycle=yes\n",
       "104955   14312366  FIXME  regular                  Divided highway\n",
       "106855   14312794  FIXME  regular               are bikes allowed?\n",
       "155950   14322482  FIXME  regular              Area Needs Checking\n",
       "...           ...    ...      ...                              ...\n",
       "376024  424918381  FIXME  regular               verfiy bicycle=yes\n",
       "376035  424918383  FIXME  regular               verfiy bicycle=yes\n",
       "376040  424918384  FIXME  regular               verfiy bicycle=yes\n",
       "376045  424918385  FIXME  regular               verfiy bicycle=yes\n",
       "376870  430920613  FIXME  regular               verfiy bicycle=yes\n",
       "376878  430920614  FIXME  regular               verfiy bicycle=yes\n",
       "377439  435072207  FIXME  regular                    reconfigured?\n",
       "377449  435072208  FIXME  regular                    reconfigured?\n",
       "377458  435072209  FIXME  regular                    reconfigured?\n",
       "377467  435072210  FIXME  regular                    reconfigured?\n",
       "380808  457819755  FIXME  regular               verfiy bicycle=yes\n",
       "380900  457824207  FIXME  regular                 dual carriageway\n",
       "380975  457839022  FIXME  regular                 dual carriageway\n",
       "382531  460475610  FIXME  regular                      check lanes\n",
       "400845  488751533  FIXME  regular                  Divided highway\n",
       "400866  488751537  FIXME  regular                  Divided highway\n",
       "400877  488751538  FIXME  regular                  Divided highway\n",
       "400888  488751539  FIXME  regular                  Divided highway\n",
       "400909  488751541  FIXME  regular                  Divided highway\n",
       "400923  488751543  FIXME  regular                  Divided highway\n",
       "400934  488751544  FIXME  regular                  Divided highway\n",
       "401033  488755095  FIXME  regular                  Divided highway\n",
       "401087  488755103  FIXME  regular                  Divided highway\n",
       "401092  488756219  FIXME  regular                  Divided highway\n",
       "401105  488756224  FIXME  regular                  Divided highway\n",
       "401110  488756808  FIXME  regular                  Divided highway\n",
       "401114  488756809  FIXME  regular                  Divided highway\n",
       "401273  488793086  FIXME  regular                  Divided highway\n",
       "401837  489162618  FIXME  regular                 dual carriageway\n",
       "401855  489162625  FIXME  regular                 dual carriageway\n",
       "\n",
       "[368 rows x 4 columns]"
      ]
     },
     "execution_count": 32,
     "metadata": {},
     "output_type": "execute_result"
    }
   ],
   "source": [
    "way_tags.loc[way_tags.key=='FIXME']"
   ]
  },
  {
   "cell_type": "markdown",
   "metadata": {},
   "source": [
    "In the above example we see, for 'FIXME' tag, data has been corrected already. For places, where it hasn't been, we have insufficient data to fix it. Thus, we remove all the 'FIXME' tags, in order to get a cleaner dataset."
   ]
  },
  {
   "cell_type": "code",
   "execution_count": 33,
   "metadata": {
    "collapsed": false
   },
   "outputs": [],
   "source": [
    "way_tags=way_tags[way_tags.key!='FIXME']"
   ]
  },
  {
   "cell_type": "markdown",
   "metadata": {},
   "source": [
    "Further, the name is split and stored in:\n",
    "\n",
    "['name_1','name_base','name_base_1','name_direction_prefix','name_full']\n",
    "\n",
    "This is not required as the final name is anyway stored in 'name'. Thus, it is redundant data and removing the tags with above mentioned keys.\n",
    "\n",
    "By doing this we reduce the data from 2708 rows to 892 rows.\n"
   ]
  },
  {
   "cell_type": "code",
   "execution_count": 34,
   "metadata": {
    "collapsed": false
   },
   "outputs": [],
   "source": [
    "#Edit way_tags to remove random values of names\n",
    "way_omit_tags=pd.Series(['name_1','name_base','name_base_1','name_direction_prefix','name_full','name_ty','name_type_1'])\n",
    "way_tags=way_tags[~way_tags.key.isin(way_omit_tags)]"
   ]
  },
  {
   "cell_type": "markdown",
   "metadata": {},
   "source": [
    "We kept 'name_type' as it holds relevant data in terms of the type 'way'."
   ]
  },
  {
   "cell_type": "code",
   "execution_count": 35,
   "metadata": {
    "collapsed": false
   },
   "outputs": [],
   "source": [
    "map_name={'Aly':'Alley',\n",
    " 'Ave':'Avenue',\n",
    " 'Ave:Rd':'Drive',\n",
    " 'Blvd':'Boulevard',\n",
    " 'Br':'Brook',\n",
    " 'Cir':'Circle',\n",
    " 'Ct':'Court',\n",
    " 'Ctr':'Drive',\n",
    " 'Cv':'Cove',\n",
    " 'Dr':'Drive',\n",
    " 'Dr.':'Drive',\n",
    " 'Dr:Rd':'Drive',\n",
    " 'Dr; Dr; Dr; Rd':'Divided Highway',\n",
    " 'Dr;Dr;Dr;Rd':'Divided Highway',\n",
    " 'Hwy':'Highway',\n",
    " 'Ln':'Lane',\n",
    " 'Ln; Pky':'Parkway',\n",
    " 'Loop':'Loop',\n",
    " 'Mal':'Mall',\n",
    " 'Pass':'Pass',\n",
    " 'Path':'Path',\n",
    " 'Pkwy':'Parkway',\n",
    " 'Pky':'Parkway',\n",
    " 'Pl':'Place',\n",
    " 'Plz':'Plaza',\n",
    " 'Rd':'Road',\n",
    " 'Rd:St':'Street',\n",
    " 'Rd; Blvd':'Boluevard',\n",
    " 'Rd; Dr':'Drive',\n",
    " 'Rd; Dr; Rd; St':'Road',\n",
    " 'Rd; Rd; Dr; Rd':'Road',\n",
    " 'Rte':'Route',\n",
    " 'Spur':'Spur',\n",
    " 'Sq':'Square',\n",
    " 'St':'Street',\n",
    " 'St:Trl':\"Trail\",\n",
    " 'Ter':'Terrace',\n",
    " 'Trl':'Trail',\n",
    " 'Way':'Way',\n",
    " 'Way:Way; Rd; Way':'Way',\n",
    " 'Way; Rd; Way':'Way',\n",
    " 'Xing':'Xing'}"
   ]
  },
  {
   "cell_type": "code",
   "execution_count": 36,
   "metadata": {
    "collapsed": false
   },
   "outputs": [],
   "source": [
    "way_tags['value'] = way_tags.loc[way_tags.key=='name_type'].value.map(map_name)"
   ]
  },
  {
   "cell_type": "markdown",
   "metadata": {},
   "source": [
    "## 5. way_nodes"
   ]
  },
  {
   "cell_type": "code",
   "execution_count": 37,
   "metadata": {
    "collapsed": false
   },
   "outputs": [
    {
     "data": {
      "text/html": [
       "<div>\n",
       "<table border=\"1\" class=\"dataframe\">\n",
       "  <thead>\n",
       "    <tr style=\"text-align: right;\">\n",
       "      <th></th>\n",
       "      <th>id</th>\n",
       "      <th>node_id</th>\n",
       "      <th>position</th>\n",
       "    </tr>\n",
       "  </thead>\n",
       "  <tbody>\n",
       "    <tr>\n",
       "      <th>0</th>\n",
       "      <td>4879375</td>\n",
       "      <td>302158005</td>\n",
       "      <td>0</td>\n",
       "    </tr>\n",
       "    <tr>\n",
       "      <th>1</th>\n",
       "      <td>4879375</td>\n",
       "      <td>1127286209</td>\n",
       "      <td>1</td>\n",
       "    </tr>\n",
       "    <tr>\n",
       "      <th>2</th>\n",
       "      <td>4879375</td>\n",
       "      <td>302157999</td>\n",
       "      <td>2</td>\n",
       "    </tr>\n",
       "    <tr>\n",
       "      <th>3</th>\n",
       "      <td>4879375</td>\n",
       "      <td>1127286264</td>\n",
       "      <td>3</td>\n",
       "    </tr>\n",
       "    <tr>\n",
       "      <th>4</th>\n",
       "      <td>4879375</td>\n",
       "      <td>302158219</td>\n",
       "      <td>4</td>\n",
       "    </tr>\n",
       "  </tbody>\n",
       "</table>\n",
       "</div>"
      ],
      "text/plain": [
       "        id     node_id  position\n",
       "0  4879375   302158005         0\n",
       "1  4879375  1127286209         1\n",
       "2  4879375   302157999         2\n",
       "3  4879375  1127286264         3\n",
       "4  4879375   302158219         4"
      ]
     },
     "execution_count": 37,
     "metadata": {},
     "output_type": "execute_result"
    }
   ],
   "source": [
    "way_nodes.head()"
   ]
  },
  {
   "cell_type": "markdown",
   "metadata": {},
   "source": [
    "### We add the number of way  'nodes' to 'way_nodes' table. "
   ]
  },
  {
   "cell_type": "code",
   "execution_count": 38,
   "metadata": {
    "collapsed": true
   },
   "outputs": [],
   "source": [
    "way_node_count = way_nodes.groupby('id').count().sort_values('position', ascending=False).reset_index()[[\"id\",'position']]\n",
    "way_node_count.columns=['id','node_count']\n",
    "def add_count(row):\n",
    "    return row.node_count\n",
    "all_ways['node_count']=way_node_count.apply(add_count,axis=1)\n",
    "del(way_node_count)"
   ]
  },
  {
   "cell_type": "code",
   "execution_count": 39,
   "metadata": {
    "collapsed": false
   },
   "outputs": [
    {
     "data": {
      "text/html": [
       "<div>\n",
       "<table border=\"1\" class=\"dataframe\">\n",
       "  <thead>\n",
       "    <tr style=\"text-align: right;\">\n",
       "      <th></th>\n",
       "      <th>id</th>\n",
       "      <th>uid</th>\n",
       "      <th>version</th>\n",
       "      <th>date</th>\n",
       "      <th>time</th>\n",
       "      <th>node_count</th>\n",
       "    </tr>\n",
       "  </thead>\n",
       "  <tbody>\n",
       "    <tr>\n",
       "      <th>0</th>\n",
       "      <td>4879375</td>\n",
       "      <td>92286</td>\n",
       "      <td>8</td>\n",
       "      <td>2012-01-11</td>\n",
       "      <td>21:28:27</td>\n",
       "      <td>670.0</td>\n",
       "    </tr>\n",
       "    <tr>\n",
       "      <th>1</th>\n",
       "      <td>7149377</td>\n",
       "      <td>121241</td>\n",
       "      <td>7</td>\n",
       "      <td>2012-05-12</td>\n",
       "      <td>22:59:41</td>\n",
       "      <td>653.0</td>\n",
       "    </tr>\n",
       "    <tr>\n",
       "      <th>2</th>\n",
       "      <td>14278330</td>\n",
       "      <td>1330847</td>\n",
       "      <td>3</td>\n",
       "      <td>2017-06-01</td>\n",
       "      <td>17:05:13</td>\n",
       "      <td>646.0</td>\n",
       "    </tr>\n",
       "    <tr>\n",
       "      <th>3</th>\n",
       "      <td>14278332</td>\n",
       "      <td>1330847</td>\n",
       "      <td>3</td>\n",
       "      <td>2017-06-01</td>\n",
       "      <td>17:05:13</td>\n",
       "      <td>643.0</td>\n",
       "    </tr>\n",
       "    <tr>\n",
       "      <th>4</th>\n",
       "      <td>14278334</td>\n",
       "      <td>360392</td>\n",
       "      <td>3</td>\n",
       "      <td>2017-04-01</td>\n",
       "      <td>12:01:54</td>\n",
       "      <td>643.0</td>\n",
       "    </tr>\n",
       "  </tbody>\n",
       "</table>\n",
       "</div>"
      ],
      "text/plain": [
       "         id      uid version        date      time  node_count\n",
       "0   4879375    92286       8  2012-01-11  21:28:27       670.0\n",
       "1   7149377   121241       7  2012-05-12  22:59:41       653.0\n",
       "2  14278330  1330847       3  2017-06-01  17:05:13       646.0\n",
       "3  14278332  1330847       3  2017-06-01  17:05:13       643.0\n",
       "4  14278334   360392       3  2017-04-01  12:01:54       643.0"
      ]
     },
     "execution_count": 39,
     "metadata": {},
     "output_type": "execute_result"
    }
   ],
   "source": [
    "all_ways.head()"
   ]
  },
  {
   "cell_type": "markdown",
   "metadata": {},
   "source": [
    "## Finally, getting a data frame for users so as it can be further converted into an SQL table."
   ]
  },
  {
   "cell_type": "markdown",
   "metadata": {},
   "source": [
    "## The final csv files are as:"
   ]
  },
  {
   "cell_type": "code",
   "execution_count": 40,
   "metadata": {
    "collapsed": false
   },
   "outputs": [],
   "source": [
    "#nodes\n",
    "all_nodes.to_csv('all_nodes.csv',index=False)\n",
    "node_tags.to_csv('node_tags.csv',index=False)\n",
    "#ways\n",
    "all_ways.to_csv('all_ways.csv',index=False)\n",
    "way_nodes.to_csv('way_nodes.csv',index=False)\n",
    "way_tags.to_csv('way_tags.csv',index=False)\n",
    "#additional\n",
    "city_info.to_csv('city_info.csv',index=False)\n",
    "all_users.to_csv('all_users.csv',index=False)"
   ]
  }
 ],
 "metadata": {
  "kernelspec": {
   "display_name": "Python 3",
   "language": "python",
   "name": "python3"
  },
  "language_info": {
   "codemirror_mode": {
    "name": "ipython",
    "version": 3
   },
   "file_extension": ".py",
   "mimetype": "text/x-python",
   "name": "python",
   "nbconvert_exporter": "python",
   "pygments_lexer": "ipython3",
   "version": "3.6.0"
  }
 },
 "nbformat": 4,
 "nbformat_minor": 2
}
